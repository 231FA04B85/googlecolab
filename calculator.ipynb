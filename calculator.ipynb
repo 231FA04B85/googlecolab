{
  "nbformat": 4,
  "nbformat_minor": 0,
  "metadata": {
    "colab": {
      "provenance": [],
      "include_colab_link": true
    },
    "kernelspec": {
      "name": "python3",
      "display_name": "Python 3"
    },
    "language_info": {
      "name": "python"
    }
  },
  "cells": [
    {
      "cell_type": "markdown",
      "metadata": {
        "id": "view-in-github",
        "colab_type": "text"
      },
      "source": [
        "<a href=\"https://colab.research.google.com/github/231FA04B85/googlecolab/blob/main/calculator.ipynb\" target=\"_parent\"><img src=\"https://colab.research.google.com/assets/colab-badge.svg\" alt=\"Open In Colab\"/></a>"
      ]
    },
    {
      "cell_type": "code",
      "execution_count": null,
      "metadata": {
        "colab": {
          "base_uri": "https://localhost:8080/"
        },
        "id": "Y1OC_b-Sw_WX",
        "outputId": "bce17580-3dc1-48a8-c9eb-317a099c5bc2"
      },
      "outputs": [
        {
          "output_type": "stream",
          "name": "stdout",
          "text": [
            "Collecting SpeechRecognition\n",
            "  Downloading speechrecognition-3.14.3-py3-none-any.whl.metadata (30 kB)\n",
            "Collecting pydub\n",
            "  Downloading pydub-0.25.1-py2.py3-none-any.whl.metadata (1.4 kB)\n",
            "Collecting gTTS\n",
            "  Downloading gTTS-2.5.4-py3-none-any.whl.metadata (4.1 kB)\n",
            "Requirement already satisfied: IPython in /usr/local/lib/python3.11/dist-packages (7.34.0)\n",
            "Requirement already satisfied: typing-extensions in /usr/local/lib/python3.11/dist-packages (from SpeechRecognition) (4.13.2)\n",
            "Requirement already satisfied: requests<3,>=2.27 in /usr/local/lib/python3.11/dist-packages (from gTTS) (2.32.3)\n",
            "Collecting click<8.2,>=7.1 (from gTTS)\n",
            "  Downloading click-8.1.8-py3-none-any.whl.metadata (2.3 kB)\n",
            "Requirement already satisfied: setuptools>=18.5 in /usr/local/lib/python3.11/dist-packages (from IPython) (75.2.0)\n",
            "Collecting jedi>=0.16 (from IPython)\n",
            "  Downloading jedi-0.19.2-py2.py3-none-any.whl.metadata (22 kB)\n",
            "Requirement already satisfied: decorator in /usr/local/lib/python3.11/dist-packages (from IPython) (4.4.2)\n",
            "Requirement already satisfied: pickleshare in /usr/local/lib/python3.11/dist-packages (from IPython) (0.7.5)\n",
            "Requirement already satisfied: traitlets>=4.2 in /usr/local/lib/python3.11/dist-packages (from IPython) (5.7.1)\n",
            "Requirement already satisfied: prompt-toolkit!=3.0.0,!=3.0.1,<3.1.0,>=2.0.0 in /usr/local/lib/python3.11/dist-packages (from IPython) (3.0.51)\n",
            "Requirement already satisfied: pygments in /usr/local/lib/python3.11/dist-packages (from IPython) (2.19.1)\n",
            "Requirement already satisfied: backcall in /usr/local/lib/python3.11/dist-packages (from IPython) (0.2.0)\n",
            "Requirement already satisfied: matplotlib-inline in /usr/local/lib/python3.11/dist-packages (from IPython) (0.1.7)\n",
            "Requirement already satisfied: pexpect>4.3 in /usr/local/lib/python3.11/dist-packages (from IPython) (4.9.0)\n",
            "Requirement already satisfied: parso<0.9.0,>=0.8.4 in /usr/local/lib/python3.11/dist-packages (from jedi>=0.16->IPython) (0.8.4)\n",
            "Requirement already satisfied: ptyprocess>=0.5 in /usr/local/lib/python3.11/dist-packages (from pexpect>4.3->IPython) (0.7.0)\n",
            "Requirement already satisfied: wcwidth in /usr/local/lib/python3.11/dist-packages (from prompt-toolkit!=3.0.0,!=3.0.1,<3.1.0,>=2.0.0->IPython) (0.2.13)\n",
            "Requirement already satisfied: charset-normalizer<4,>=2 in /usr/local/lib/python3.11/dist-packages (from requests<3,>=2.27->gTTS) (3.4.2)\n",
            "Requirement already satisfied: idna<4,>=2.5 in /usr/local/lib/python3.11/dist-packages (from requests<3,>=2.27->gTTS) (3.10)\n",
            "Requirement already satisfied: urllib3<3,>=1.21.1 in /usr/local/lib/python3.11/dist-packages (from requests<3,>=2.27->gTTS) (2.4.0)\n",
            "Requirement already satisfied: certifi>=2017.4.17 in /usr/local/lib/python3.11/dist-packages (from requests<3,>=2.27->gTTS) (2025.4.26)\n",
            "Downloading speechrecognition-3.14.3-py3-none-any.whl (32.9 MB)\n",
            "\u001b[2K   \u001b[90m━━━━━━━━━━━━━━━━━━━━━━━━━━━━━━━━━━━━━━━━\u001b[0m \u001b[32m32.9/32.9 MB\u001b[0m \u001b[31m18.4 MB/s\u001b[0m eta \u001b[36m0:00:00\u001b[0m\n",
            "\u001b[?25hDownloading pydub-0.25.1-py2.py3-none-any.whl (32 kB)\n",
            "Downloading gTTS-2.5.4-py3-none-any.whl (29 kB)\n",
            "Downloading click-8.1.8-py3-none-any.whl (98 kB)\n",
            "\u001b[2K   \u001b[90m━━━━━━━━━━━━━━━━━━━━━━━━━━━━━━━━━━━━━━━━\u001b[0m \u001b[32m98.2/98.2 kB\u001b[0m \u001b[31m7.3 MB/s\u001b[0m eta \u001b[36m0:00:00\u001b[0m\n",
            "\u001b[?25hDownloading jedi-0.19.2-py2.py3-none-any.whl (1.6 MB)\n",
            "\u001b[2K   \u001b[90m━━━━━━━━━━━━━━━━━━━━━━━━━━━━━━━━━━━━━━━━\u001b[0m \u001b[32m1.6/1.6 MB\u001b[0m \u001b[31m22.1 MB/s\u001b[0m eta \u001b[36m0:00:00\u001b[0m\n",
            "\u001b[?25hInstalling collected packages: pydub, SpeechRecognition, jedi, click, gTTS\n",
            "  Attempting uninstall: click\n",
            "    Found existing installation: click 8.2.0\n",
            "    Uninstalling click-8.2.0:\n",
            "      Successfully uninstalled click-8.2.0\n",
            "Successfully installed SpeechRecognition-3.14.3 click-8.1.8 gTTS-2.5.4 jedi-0.19.2 pydub-0.25.1\n"
          ]
        }
      ],
      "source": [
        "!pip install SpeechRecognition pydub gTTS IPython\n"
      ]
    },
    {
      "cell_type": "code",
      "source": [
        "!pip install gTTs"
      ],
      "metadata": {
        "colab": {
          "base_uri": "https://localhost:8080/"
        },
        "id": "SPDxLQWt1YkT",
        "outputId": "9e1f74a8-64ec-4f83-f040-9d19875b5027"
      },
      "execution_count": null,
      "outputs": [
        {
          "output_type": "stream",
          "name": "stdout",
          "text": [
            "Requirement already satisfied: gTTs in /usr/local/lib/python3.11/dist-packages (2.5.4)\n",
            "Requirement already satisfied: requests<3,>=2.27 in /usr/local/lib/python3.11/dist-packages (from gTTs) (2.32.3)\n",
            "Requirement already satisfied: click<8.2,>=7.1 in /usr/local/lib/python3.11/dist-packages (from gTTs) (8.1.8)\n",
            "Requirement already satisfied: charset-normalizer<4,>=2 in /usr/local/lib/python3.11/dist-packages (from requests<3,>=2.27->gTTs) (3.4.2)\n",
            "Requirement already satisfied: idna<4,>=2.5 in /usr/local/lib/python3.11/dist-packages (from requests<3,>=2.27->gTTs) (3.10)\n",
            "Requirement already satisfied: urllib3<3,>=1.21.1 in /usr/local/lib/python3.11/dist-packages (from requests<3,>=2.27->gTTs) (2.4.0)\n",
            "Requirement already satisfied: certifi>=2017.4.17 in /usr/local/lib/python3.11/dist-packages (from requests<3,>=2.27->gTTs) (2025.4.26)\n"
          ]
        }
      ]
    },
    {
      "cell_type": "code",
      "source": [
        "import speech_recognition as sr"
      ],
      "metadata": {
        "id": "xAXfOQ_NxHGl"
      },
      "execution_count": null,
      "outputs": []
    },
    {
      "cell_type": "code",
      "source": [
        "from gtts import gTTS\n",
        "from IPython.display import Audio"
      ],
      "metadata": {
        "id": "CCHQNYB51gJr"
      },
      "execution_count": null,
      "outputs": []
    },
    {
      "cell_type": "code",
      "source": [
        "a=gTTS(input(\"Enter any text:\"))"
      ],
      "metadata": {
        "colab": {
          "base_uri": "https://localhost:8080/"
        },
        "id": "_ukpwpVG1kdk",
        "outputId": "6a5714f2-2eee-494e-f02c-5f500d3fd7a4"
      },
      "execution_count": null,
      "outputs": [
        {
          "name": "stdout",
          "output_type": "stream",
          "text": [
            "Enter any text:five plus three means two\n"
          ]
        }
      ]
    },
    {
      "cell_type": "code",
      "source": [
        "a.save(\"speech.mp3\")"
      ],
      "metadata": {
        "id": "S28a6vsb1xfD"
      },
      "execution_count": null,
      "outputs": []
    },
    {
      "cell_type": "code",
      "source": [
        "Audio(\"speech.mp3\")"
      ],
      "metadata": {
        "colab": {
          "base_uri": "https://localhost:8080/",
          "height": 76
        },
        "id": "ko5JfIjX10-D",
        "outputId": "c2a47c4f-c7bc-4d35-8460-0ad862e09600"
      },
      "execution_count": null,
      "outputs": [
        {
          "output_type": "execute_result",
          "data": {
            "text/plain": [
              "<IPython.lib.display.Audio object>"
            ],
            "text/html": [
              "\n",
              "                <audio  controls=\"controls\" >\n",
              "                    <source src=\"data:audio/mpeg;base64,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\" type=\"audio/mpeg\" />\n",
              "                    Your browser does not support the audio element.\n",
              "                </audio>\n",
              "              "
            ]
          },
          "metadata": {},
          "execution_count": 13
        }
      ]
    },
    {
      "cell_type": "code",
      "source": [
        "from pydub import AudioSegment\n",
        "\n",
        "mp3_file = \"/content/speech.mp3\"\n",
        "wav_file = \"/content/speech.wav\"\n",
        "\n",
        "audio = AudioSegment.from_mp3(mp3_file)\n",
        "audio.export(wav_file, format=\"wav\")"
      ],
      "metadata": {
        "colab": {
          "base_uri": "https://localhost:8080/"
        },
        "id": "UbdexV5FzAwe",
        "outputId": "e5482e6e-1a96-45e8-c5fb-70fa3b1f93d1"
      },
      "execution_count": null,
      "outputs": [
        {
          "output_type": "execute_result",
          "data": {
            "text/plain": [
              "<_io.BufferedRandom name='/content/speech.wav'>"
            ]
          },
          "metadata": {},
          "execution_count": 14
        }
      ]
    },
    {
      "cell_type": "code",
      "source": [
        "r = sr.Recognizer()\n",
        "\n",
        "with sr.AudioFile(wav_file) as source:\n",
        "    audio = r.record(source)\n",
        "\n",
        "try:\n",
        "    text = r.recognize_google(audio)\n",
        "    print(\"You said:\", text)\n",
        "except sr.UnknownValueError:\n",
        "    print(\"Sorry, could not understand the audio.\")\n"
      ],
      "metadata": {
        "colab": {
          "base_uri": "https://localhost:8080/"
        },
        "id": "8uDs1A0VzM0T",
        "outputId": "0ade6d77-f849-4a21-ac1f-2da86e96f02a"
      },
      "execution_count": null,
      "outputs": [
        {
          "output_type": "stream",
          "name": "stdout",
          "text": [
            "You said: 5 + 3 means two\n"
          ]
        }
      ]
    },
    {
      "cell_type": "code",
      "source": [
        "import re\n",
        "\n",
        "def parse_command(text):\n",
        "    text = text.lower()\n",
        "\n",
        "    replacements = {\n",
        "        \"plus\": \"+\",\n",
        "        \"minus\": \"-\",\n",
        "        \"times\": \"*\",\n",
        "        \"multiplied by\": \"*\",\n",
        "        \"multiply by\": \"*\",\n",
        "        \"x\": \"*\",\n",
        "        \"divided by\": \"/\",\n",
        "        \"divide by\": \"/\",\n",
        "        \"over\": \"/\"\n",
        "    }\n",
        "\n",
        "    for word, symbol in replacements.items():\n",
        "        text = text.replace(word, symbol)\n",
        "\n",
        "    expression = re.findall(r'\\d+\\.?\\d*|[+\\-*/]', text)\n",
        "\n",
        "    if not expression:\n",
        "        return None, \"Could not extract any math expression from speech.\"\n",
        "\n",
        "    try:\n",
        "        joined_expr = \"\".join(expression)\n",
        "        result = eval(joined_expr)\n",
        "        return joined_expr, result\n",
        "    except Exception as e:\n",
        "        return None, f\"Error evaluating expression: {e}\"\n"
      ],
      "metadata": {
        "id": "tTBv4OOvzsX0"
      },
      "execution_count": null,
      "outputs": []
    },
    {
      "cell_type": "code",
      "source": [
        "text = text.lower()\n",
        "expr, result = parse_command(text)\n",
        "\n",
        "if expr:\n",
        "    print(f\"{expr} = {result}\")\n",
        "else:\n",
        "    print(\"Error:\", result)\n"
      ],
      "metadata": {
        "colab": {
          "base_uri": "https://localhost:8080/"
        },
        "id": "5LZyIq9Mz-u0",
        "outputId": "1f77d002-e197-4cf6-df5f-70eee4f68c5c"
      },
      "execution_count": null,
      "outputs": [
        {
          "output_type": "stream",
          "name": "stdout",
          "text": [
            "5+3 = 8\n"
          ]
        }
      ]
    },
    {
      "cell_type": "code",
      "source": [
        "from gtts import gTTS\n",
        "from IPython.display import Audio, display\n",
        "\n",
        "tts = gTTS(f\"The result is {result}\")\n",
        "tts.save(\"result.mp3\")\n",
        "display(Audio(\"result.mp3\"))\n"
      ],
      "metadata": {
        "colab": {
          "base_uri": "https://localhost:8080/",
          "height": 76
        },
        "id": "cK2lTa090XU7",
        "outputId": "48967448-6222-4201-c5ad-3336c0f01578"
      },
      "execution_count": null,
      "outputs": [
        {
          "output_type": "display_data",
          "data": {
            "text/plain": [
              "<IPython.lib.display.Audio object>"
            ],
            "text/html": [
              "\n",
              "                <audio  controls=\"controls\" >\n",
              "                    <source src=\"data:audio/mpeg;base64,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\" type=\"audio/mpeg\" />\n",
              "                    Your browser does not support the audio element.\n",
              "                </audio>\n",
              "              "
            ]
          },
          "metadata": {}
        }
      ]
    },
    {
      "cell_type": "code",
      "source": [
        "from gtts import gTTS\n",
        "from IPython.display import Audio, display\n",
        "\n",
        "if text:\n",
        "    expr, result = parse_command(text)\n",
        "    if expr:\n",
        "        print(f\"{expr} = {result}\")\n",
        "        tts = gTTS(f\"The result is {result}\")\n",
        "        tts.save(\"result.mp3\")\n",
        "        display(Audio(\"result.mp3\"))\n",
        "    else:\n",
        "        print(\"Error:\", result)\n",
        "else:\n",
        "    print(\"No valid text to process.\")\n"
      ],
      "metadata": {
        "colab": {
          "base_uri": "https://localhost:8080/",
          "height": 93
        },
        "id": "TMVZgcpO2Pdk",
        "outputId": "782769f7-c1f7-4d5e-b317-ebb44cd33468"
      },
      "execution_count": null,
      "outputs": [
        {
          "output_type": "stream",
          "name": "stdout",
          "text": [
            "5+3 = 8\n"
          ]
        },
        {
          "output_type": "display_data",
          "data": {
            "text/plain": [
              "<IPython.lib.display.Audio object>"
            ],
            "text/html": [
              "\n",
              "                <audio  controls=\"controls\" >\n",
              "                    <source src=\"data:audio/mpeg;base64,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\" type=\"audio/mpeg\" />\n",
              "                    Your browser does not support the audio element.\n",
              "                </audio>\n",
              "              "
            ]
          },
          "metadata": {}
        }
      ]
    },
    {
      "cell_type": "code",
      "source": [],
      "metadata": {
        "id": "kgtuIPXl3ZYM"
      },
      "execution_count": null,
      "outputs": []
    }
  ]
}